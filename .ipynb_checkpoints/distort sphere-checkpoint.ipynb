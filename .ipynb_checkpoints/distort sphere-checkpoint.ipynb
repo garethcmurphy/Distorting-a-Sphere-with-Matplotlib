{
 "cells": [
  {
   "cell_type": "code",
   "execution_count": null,
   "metadata": {
    "collapsed": false
   },
   "outputs": [],
   "source": [
    "import numpy as np\n",
    "import matplotlib.pyplot as plt\n",
    "\n"
   ]
  },
  {
   "cell_type": "code",
   "execution_count": 8,
   "metadata": {
    "collapsed": false
   },
   "outputs": [],
   "source": [
    "th=np.linspace(-np.pi/4,np.pi/4,50)"
   ]
  },
  {
   "cell_type": "code",
   "execution_count": 11,
   "metadata": {
    "collapsed": false
   },
   "outputs": [
    {
     "data": {
      "text/plain": [
       "[<matplotlib.lines.Line2D at 0x10d8cf978>]"
      ]
     },
     "execution_count": 11,
     "metadata": {},
     "output_type": "execute_result"
    },
    {
     "data": {
      "image/png": "[encoded data removed]",
      "text/plain": [
       "<matplotlib.figure.Figure at 0x10d7f73c8>"
      ]
     },
     "metadata": {},
     "output_type": "display_data"
    }
   ],
   "source": [
    "plt.plot(th)"
   ]
  },
  {
   "cell_type": "code",
   "execution_count": null,
   "metadata": {
    "collapsed": true
   },
   "outputs": [],
   "source": [
    "%matplotlib inline"
   ]
  },
  {
   "cell_type": "code",
   "execution_count": 13,
   "metadata": {
    "collapsed": false
   },
   "outputs": [],
   "source": [
    "x=np.cos(th)"
   ]
  },
  {
   "cell_type": "code",
   "execution_count": 14,
   "metadata": {
    "collapsed": true
   },
   "outputs": [],
   "source": [
    "y=np.sin(th)"
   ]
  },
  {
   "cell_type": "code",
   "execution_count": 37,
   "metadata": {
    "collapsed": false
   },
   "outputs": [
    {
     "ename": "ValueError",
     "evalue": "operands could not be broadcast together with shapes (20,) (20,9) ",
     "output_type": "error",
     "traceback": [
      "\u001b[0;31m---------------------------------------------------------------------------\u001b[0m",
      "\u001b[0;31mValueError\u001b[0m                                Traceback (most recent call last)",
      "\u001b[0;32m<ipython-input-37-bb81c2c25882>\u001b[0m in \u001b[0;36m<module>\u001b[0;34m()\u001b[0m\n\u001b[1;32m      5\u001b[0m \u001b[0;34m\u001b[0m\u001b[0m\n\u001b[1;32m      6\u001b[0m \u001b[0mxdef\u001b[0m\u001b[0;34m,\u001b[0m \u001b[0mydef\u001b[0m \u001b[0;34m=\u001b[0m \u001b[0mx\u001b[0m\u001b[0;34m/\u001b[0m\u001b[0mnp\u001b[0m\u001b[0;34m.\u001b[0m\u001b[0msqrt\u001b[0m\u001b[0;34m(\u001b[0m\u001b[0mx\u001b[0m\u001b[0;34m**\u001b[0m\u001b[0;36m2\u001b[0m\u001b[0;34m+\u001b[0m\u001b[0my\u001b[0m\u001b[0;34m**\u001b[0m\u001b[0;36m2\u001b[0m\u001b[0;34m)\u001b[0m\u001b[0;34m,\u001b[0m \u001b[0my\u001b[0m\u001b[0;34m/\u001b[0m\u001b[0mnp\u001b[0m\u001b[0;34m.\u001b[0m\u001b[0msqrt\u001b[0m\u001b[0;34m(\u001b[0m\u001b[0mx\u001b[0m\u001b[0;34m**\u001b[0m\u001b[0;36m2\u001b[0m\u001b[0;34m+\u001b[0m\u001b[0my\u001b[0m\u001b[0;34m**\u001b[0m\u001b[0;36m2\u001b[0m\u001b[0;34m)\u001b[0m\u001b[0;34m*\u001b[0m\u001b[0my\u001b[0m\u001b[0;34m\u001b[0m\u001b[0m\n\u001b[0;32m----> 7\u001b[0;31m \u001b[0mxdef\u001b[0m\u001b[0;34m=\u001b[0m\u001b[0;34m(\u001b[0m\u001b[0mnp\u001b[0m\u001b[0;34m.\u001b[0m\u001b[0mtranspose\u001b[0m\u001b[0;34m(\u001b[0m\u001b[0mnp\u001b[0m\u001b[0;34m.\u001b[0m\u001b[0mlinspace\u001b[0m\u001b[0;34m(\u001b[0m\u001b[0;36m1\u001b[0m\u001b[0;34m,\u001b[0m\u001b[0;36m20\u001b[0m\u001b[0;34m,\u001b[0m\u001b[0;36m20\u001b[0m\u001b[0;34m)\u001b[0m\u001b[0;34m*\u001b[0m\u001b[0mnp\u001b[0m\u001b[0;34m.\u001b[0m\u001b[0mtranspose\u001b[0m\u001b[0;34m(\u001b[0m\u001b[0mxdef\u001b[0m\u001b[0;34m)\u001b[0m\u001b[0;34m)\u001b[0m\u001b[0;34m)\u001b[0m\u001b[0;34m\u001b[0m\u001b[0m\n\u001b[0m\u001b[1;32m      8\u001b[0m \u001b[0;34m\u001b[0m\u001b[0m\n\u001b[1;32m      9\u001b[0m \u001b[0;34m\u001b[0m\u001b[0m\n",
      "\u001b[0;31mValueError\u001b[0m: operands could not be broadcast together with shapes (20,) (20,9) "
     ]
    }
   ],
   "source": [
    "import matplotlib.pyplot as plt\n",
    "\n",
    "y, x = np.mgrid[1:10, -10:10]\n",
    "z = np.random.random(x.shape)\n",
    "\n",
    "xdef, ydef = x/np.sqrt(x**2+y**2), y/np.sqrt(x**2+y**2)*y\n",
    "xdef=(np.transpose(np.linspace(1,20,20)*np.transpose(xdef)))\n",
    "\n",
    "\n",
    "fig, axes = plt.subplots(ncols=2)\n",
    "axes[0].pcolormesh(x, y, z, cmap='gist_earth')\n",
    "axes[1].pcolormesh(xdef, ydef, z, cmap='gist_earth')\n",
    "\n",
    "axes[0].set(title='Original', xticks=[], yticks=[])\n",
    "axes[1].set(title='Deformed', xticks=[], yticks=[])\n",
    "\n",
    "plt.show()"
   ]
  },
  {
   "cell_type": "code",
   "execution_count": 37,
   "metadata": {
    "collapsed": false
   },
   "outputs": [
    {
     "name": "stdout",
     "output_type": "stream",
     "text": [
      "[[ 0.70710678  0.89442719  0.9486833   0.9701425   0.98058068  0.98639392\n",
      "   0.98994949  0.99227788  0.99388373]\n",
      " [ 0.4472136   0.70710678  0.83205029  0.89442719  0.92847669  0.9486833\n",
      "   0.96152395  0.9701425   0.97618706]\n",
      " [ 0.31622777  0.5547002   0.70710678  0.8         0.85749293  0.89442719\n",
      "   0.91914503  0.93632918  0.9486833 ]\n",
      " [ 0.24253563  0.4472136   0.6         0.70710678  0.78086881  0.83205029\n",
      "   0.86824314  0.89442719  0.91381155]\n",
      " [ 0.19611614  0.37139068  0.51449576  0.62469505  0.70710678  0.76822128\n",
      "   0.81373347  0.8479983   0.87415728]\n",
      " [ 0.16439899  0.31622777  0.4472136   0.5547002   0.6401844   0.70710678\n",
      "   0.7592566   0.8         0.83205029]\n",
      " [ 0.14142136  0.27472113  0.3939193   0.49613894  0.58123819  0.65079137\n",
      "   0.70710678  0.75257669  0.78935222]\n",
      " [ 0.12403473  0.24253563  0.35112344  0.4472136   0.52999894  0.6\n",
      "   0.65850461  0.70710678  0.74740932]\n",
      " [ 0.11043153  0.21693046  0.31622777  0.40613847  0.48564293  0.5547002\n",
      "   0.61394061  0.66436384  0.70710678]]\n"
     ]
    }
   ],
   "source": [
    "print (x/np.sqrt(x**2+y**2))\n"
   ]
  },
  {
   "cell_type": "code",
   "execution_count": null,
   "metadata": {
    "collapsed": false
   },
   "outputs": [],
   "source": [
    "print (x)\n"
   ]
  },
  {
   "cell_type": "code",
   "execution_count": null,
   "metadata": {
    "collapsed": false
   },
   "outputs": [],
   "source": [
    "print (np.linspace(1,10,10)*x)"
   ]
  },
  {
   "cell_type": "code",
   "execution_count": null,
   "metadata": {
    "collapsed": true
   },
   "outputs": [],
   "source": [
    "print (x)"
   ]
  },
  {
   "cell_type": "code",
   "execution_count": null,
   "metadata": {
    "collapsed": true
   },
   "outputs": [],
   "source": [
    "%matplotlib inline"
   ]
  },
  {
   "cell_type": "code",
   "execution_count": 38,
   "metadata": {
    "collapsed": false
   },
   "outputs": [
    {
     "data": {
      "image/png": "[encoded data removed]",
      "text/plain": [
       "<matplotlib.figure.Figure at 0x113182b38>"
      ]
     },
     "metadata": {},
     "output_type": "display_data"
    }
   ],
   "source": [
    "import matplotlib.pyplot as plt\n",
    "\n",
    "y, x = np.mgrid[1:21, -10:10]\n",
    "z = np.random.random(x.shape)\n",
    "\n",
    "xdef, ydef = x/np.sqrt(x**2+y**2), y/np.sqrt(x**2+y**2)*y\n",
    "xdef=(np.transpose(np.linspace(1,20,20)*np.transpose(xdef)))\n",
    "\n",
    "\n",
    "\n",
    "\n",
    "fig, axes = plt.subplots(ncols=2)\n",
    "axes[0].pcolormesh(x, y, z, cmap='gist_earth')\n",
    "axes[1].pcolormesh(xdef, ydef, z, cmap='gist_earth')\n",
    "\n",
    "axes[0].set(title='Original', xticks=[], yticks=[])\n",
    "axes[1].set(title='Deformed', xticks=[], yticks=[])\n",
    "\n",
    "plt.show()"
   ]
  },
  {
   "cell_type": "code",
   "execution_count": null,
   "metadata": {
    "collapsed": true
   },
   "outputs": [],
   "source": [
    "%matplotlib inline"
   ]
  },
  {
   "cell_type": "code",
   "execution_count": 36,
   "metadata": {
    "collapsed": false
   },
   "outputs": [
    {
     "name": "stdout",
     "output_type": "stream",
     "text": [
      "[[ -10.   -9.   -8.   -7.   -6.   -5.   -4.   -3.   -2.   -1.    0.    1.\n",
      "     2.    3.    4.    5.    6.    7.    8.    9.]\n",
      " [ -20.  -18.  -16.  -14.  -12.  -10.   -8.   -6.   -4.   -2.    0.    2.\n",
      "     4.    6.    8.   10.   12.   14.   16.   18.]\n",
      " [ -30.  -27.  -24.  -21.  -18.  -15.  -12.   -9.   -6.   -3.    0.    3.\n",
      "     6.    9.   12.   15.   18.   21.   24.   27.]\n",
      " [ -40.  -36.  -32.  -28.  -24.  -20.  -16.  -12.   -8.   -4.    0.    4.\n",
      "     8.   12.   16.   20.   24.   28.   32.   36.]\n",
      " [ -50.  -45.  -40.  -35.  -30.  -25.  -20.  -15.  -10.   -5.    0.    5.\n",
      "    10.   15.   20.   25.   30.   35.   40.   45.]\n",
      " [ -60.  -54.  -48.  -42.  -36.  -30.  -24.  -18.  -12.   -6.    0.    6.\n",
      "    12.   18.   24.   30.   36.   42.   48.   54.]\n",
      " [ -70.  -63.  -56.  -49.  -42.  -35.  -28.  -21.  -14.   -7.    0.    7.\n",
      "    14.   21.   28.   35.   42.   49.   56.   63.]\n",
      " [ -80.  -72.  -64.  -56.  -48.  -40.  -32.  -24.  -16.   -8.    0.    8.\n",
      "    16.   24.   32.   40.   48.   56.   64.   72.]\n",
      " [ -90.  -81.  -72.  -63.  -54.  -45.  -36.  -27.  -18.   -9.    0.    9.\n",
      "    18.   27.   36.   45.   54.   63.   72.   81.]\n",
      " [-100.  -90.  -80.  -70.  -60.  -50.  -40.  -30.  -20.  -10.    0.   10.\n",
      "    20.   30.   40.   50.   60.   70.   80.   90.]\n",
      " [-110.  -99.  -88.  -77.  -66.  -55.  -44.  -33.  -22.  -11.    0.   11.\n",
      "    22.   33.   44.   55.   66.   77.   88.   99.]\n",
      " [-120. -108.  -96.  -84.  -72.  -60.  -48.  -36.  -24.  -12.    0.   12.\n",
      "    24.   36.   48.   60.   72.   84.   96.  108.]\n",
      " [-130. -117. -104.  -91.  -78.  -65.  -52.  -39.  -26.  -13.    0.   13.\n",
      "    26.   39.   52.   65.   78.   91.  104.  117.]\n",
      " [-140. -126. -112.  -98.  -84.  -70.  -56.  -42.  -28.  -14.    0.   14.\n",
      "    28.   42.   56.   70.   84.   98.  112.  126.]\n",
      " [-150. -135. -120. -105.  -90.  -75.  -60.  -45.  -30.  -15.    0.   15.\n",
      "    30.   45.   60.   75.   90.  105.  120.  135.]\n",
      " [-160. -144. -128. -112.  -96.  -80.  -64.  -48.  -32.  -16.    0.   16.\n",
      "    32.   48.   64.   80.   96.  112.  128.  144.]\n",
      " [-170. -153. -136. -119. -102.  -85.  -68.  -51.  -34.  -17.    0.   17.\n",
      "    34.   51.   68.   85.  102.  119.  136.  153.]\n",
      " [-180. -162. -144. -126. -108.  -90.  -72.  -54.  -36.  -18.    0.   18.\n",
      "    36.   54.   72.   90.  108.  126.  144.  162.]\n",
      " [-190. -171. -152. -133. -114.  -95.  -76.  -57.  -38.  -19.    0.   19.\n",
      "    38.   57.   76.   95.  114.  133.  152.  171.]\n",
      " [-200. -180. -160. -140. -120. -100.  -80.  -60.  -40.  -20.    0.   20.\n",
      "    40.   60.   80.  100.  120.  140.  160.  180.]]\n"
     ]
    }
   ],
   "source": [
    "print (np.transpose(np.linspace(1,20,20)*np.transpose(x)))"
   ]
  },
  {
   "cell_type": "code",
   "execution_count": 24,
   "metadata": {
    "collapsed": false
   },
   "outputs": [
    {
     "ename": "ValueError",
     "evalue": "operands could not be broadcast together with shapes (9,20) (9,) ",
     "output_type": "error",
     "traceback": [
      "\u001b[0;31m---------------------------------------------------------------------------\u001b[0m",
      "\u001b[0;31mValueError\u001b[0m                                Traceback (most recent call last)",
      "\u001b[0;32m<ipython-input-24-f43d3e6882e4>\u001b[0m in \u001b[0;36m<module>\u001b[0;34m()\u001b[0m\n\u001b[0;32m----> 1\u001b[0;31m \u001b[0mprint\u001b[0m \u001b[0;34m(\u001b[0m\u001b[0mx\u001b[0m\u001b[0;34m*\u001b[0m\u001b[0mnp\u001b[0m\u001b[0;34m.\u001b[0m\u001b[0mtranspose\u001b[0m\u001b[0;34m(\u001b[0m\u001b[0mnp\u001b[0m\u001b[0;34m.\u001b[0m\u001b[0mlinspace\u001b[0m\u001b[0;34m(\u001b[0m\u001b[0;36m1\u001b[0m\u001b[0;34m,\u001b[0m\u001b[0;36m9\u001b[0m\u001b[0;34m,\u001b[0m\u001b[0;36m9\u001b[0m\u001b[0;34m)\u001b[0m\u001b[0;34m)\u001b[0m\u001b[0;34m)\u001b[0m\u001b[0;34m\u001b[0m\u001b[0m\n\u001b[0m",
      "\u001b[0;31mValueError\u001b[0m: operands could not be broadcast together with shapes (9,20) (9,) "
     ]
    }
   ],
   "source": [
    "print (x*np.transpose(np.linspace(1,9,9)))"
   ]
  },
  {
   "cell_type": "code",
   "execution_count": null,
   "metadata": {
    "collapsed": true
   },
   "outputs": [],
   "source": []
  }
 ],
 "metadata": {
  "kernelspec": {
   "display_name": "Python 3",
   "language": "python",
   "name": "python3"
  },
  "language_info": {
   "codemirror_mode": {
    "name": "ipython",
    "version": 3
   },
   "file_extension": ".py",
   "mimetype": "text/x-python",
   "name": "python",
   "nbconvert_exporter": "python",
   "pygments_lexer": "ipython3",
   "version": "3.4.4"
  }
 },
 "nbformat": 4,
 "nbformat_minor": 0
}
