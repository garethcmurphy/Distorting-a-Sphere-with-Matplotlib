{
 "cells": [
  {
   "cell_type": "code",
   "execution_count": 2,
   "metadata": {
    "collapsed": false
   },
   "outputs": [],
   "source": [
    "import numpy as np\n",
    "import matplotlib.pyplot as plt\n",
    "\n"
   ]
  },
  {
   "cell_type": "code",
   "execution_count": 8,
   "metadata": {
    "collapsed": false
   },
   "outputs": [],
   "source": [
    "th=np.linspace(-np.pi/4,np.pi/4,50)"
   ]
  },
  {
   "cell_type": "code",
   "execution_count": 11,
   "metadata": {
    "collapsed": false
   },
   "outputs": [
    {
     "data": {
      "text/plain": [
       "[<matplotlib.lines.Line2D at 0x10d8cf978>]"
      ]
     },
     "execution_count": 11,
     "metadata": {},
     "output_type": "execute_result"
    },
    {
     "data": {
      "image/png": "[encoded data removed]",
      "text/plain": [
       "<matplotlib.figure.Figure at 0x10d7f73c8>"
      ]
     },
     "metadata": {},
     "output_type": "display_data"
    }
   ],
   "source": [
    "plt.plot(th)"
   ]
  },
  {
   "cell_type": "code",
   "execution_count": 10,
   "metadata": {
    "collapsed": true
   },
   "outputs": [],
   "source": [
    "%matplotlib inline"
   ]
  },
  {
   "cell_type": "code",
   "execution_count": 13,
   "metadata": {
    "collapsed": false
   },
   "outputs": [],
   "source": [
    "x=np.cos(th)"
   ]
  },
  {
   "cell_type": "code",
   "execution_count": 14,
   "metadata": {
    "collapsed": true
   },
   "outputs": [],
   "source": [
    "y=np.sin(th)"
   ]
  },
  {
   "cell_type": "code",
   "execution_count": 48,
   "metadata": {
    "collapsed": false
   },
   "outputs": [
    {
     "data": {
      "image/png": "[encoded data removed]",
      "text/plain": [
       "<matplotlib.figure.Figure at 0x10db68e80>"
      ]
     },
     "metadata": {},
     "output_type": "display_data"
    }
   ],
   "source": [
    "import matplotlib.pyplot as plt\n",
    "\n",
    "y, x = np.mgrid[1:10, -10:10]\n",
    "z = np.random.random(x.shape)\n",
    "\n",
    "xdef, ydef = x/np.sqrt(x**2+y**2), y/np.sqrt(x**2+y**2)*y\n",
    "\n",
    "\n",
    "\n",
    "fig, axes = plt.subplots(ncols=2)\n",
    "axes[0].pcolormesh(x, y, z, cmap='gist_earth')\n",
    "axes[1].pcolormesh(xdef, ydef, z, cmap='gist_earth')\n",
    "\n",
    "axes[0].set(title='Original', xticks=[], yticks=[])\n",
    "axes[1].set(title='Deformed', xticks=[], yticks=[])\n",
    "\n",
    "plt.show()"
   ]
  },
  {
   "cell_type": "code",
   "execution_count": 37,
   "metadata": {
    "collapsed": false
   },
   "outputs": [
    {
     "name": "stdout",
     "output_type": "stream",
     "text": [
      "[[ 0.70710678  0.89442719  0.9486833   0.9701425   0.98058068  0.98639392\n",
      "   0.98994949  0.99227788  0.99388373]\n",
      " [ 0.4472136   0.70710678  0.83205029  0.89442719  0.92847669  0.9486833\n",
      "   0.96152395  0.9701425   0.97618706]\n",
      " [ 0.31622777  0.5547002   0.70710678  0.8         0.85749293  0.89442719\n",
      "   0.91914503  0.93632918  0.9486833 ]\n",
      " [ 0.24253563  0.4472136   0.6         0.70710678  0.78086881  0.83205029\n",
      "   0.86824314  0.89442719  0.91381155]\n",
      " [ 0.19611614  0.37139068  0.51449576  0.62469505  0.70710678  0.76822128\n",
      "   0.81373347  0.8479983   0.87415728]\n",
      " [ 0.16439899  0.31622777  0.4472136   0.5547002   0.6401844   0.70710678\n",
      "   0.7592566   0.8         0.83205029]\n",
      " [ 0.14142136  0.27472113  0.3939193   0.49613894  0.58123819  0.65079137\n",
      "   0.70710678  0.75257669  0.78935222]\n",
      " [ 0.12403473  0.24253563  0.35112344  0.4472136   0.52999894  0.6\n",
      "   0.65850461  0.70710678  0.74740932]\n",
      " [ 0.11043153  0.21693046  0.31622777  0.40613847  0.48564293  0.5547002\n",
      "   0.61394061  0.66436384  0.70710678]]\n"
     ]
    }
   ],
   "source": [
    "print (x/np.sqrt(x**2+y**2))\n"
   ]
  },
  {
   "cell_type": "code",
   "execution_count": 51,
   "metadata": {
    "collapsed": false
   },
   "outputs": [
    {
     "name": "stdout",
     "output_type": "stream",
     "text": [
      "[[-10  -9  -8  -7  -6  -5  -4  -3  -2  -1   0   1   2   3   4   5   6   7\n",
      "    8   9]\n",
      " [-10  -9  -8  -7  -6  -5  -4  -3  -2  -1   0   1   2   3   4   5   6   7\n",
      "    8   9]\n",
      " [-10  -9  -8  -7  -6  -5  -4  -3  -2  -1   0   1   2   3   4   5   6   7\n",
      "    8   9]\n",
      " [-10  -9  -8  -7  -6  -5  -4  -3  -2  -1   0   1   2   3   4   5   6   7\n",
      "    8   9]\n",
      " [-10  -9  -8  -7  -6  -5  -4  -3  -2  -1   0   1   2   3   4   5   6   7\n",
      "    8   9]\n",
      " [-10  -9  -8  -7  -6  -5  -4  -3  -2  -1   0   1   2   3   4   5   6   7\n",
      "    8   9]\n",
      " [-10  -9  -8  -7  -6  -5  -4  -3  -2  -1   0   1   2   3   4   5   6   7\n",
      "    8   9]\n",
      " [-10  -9  -8  -7  -6  -5  -4  -3  -2  -1   0   1   2   3   4   5   6   7\n",
      "    8   9]\n",
      " [-10  -9  -8  -7  -6  -5  -4  -3  -2  -1   0   1   2   3   4   5   6   7\n",
      "    8   9]]\n"
     ]
    }
   ],
   "source": [
    "print (x)\n"
   ]
  },
  {
   "cell_type": "code",
   "execution_count": null,
   "metadata": {
    "collapsed": true
   },
   "outputs": [],
   "source": []
  }
 ],
 "metadata": {
  "kernelspec": {
   "display_name": "Python 3",
   "language": "python",
   "name": "python3"
  },
  "language_info": {
   "codemirror_mode": {
    "name": "ipython",
    "version": 3
   },
   "file_extension": ".py",
   "mimetype": "text/x-python",
   "name": "python",
   "nbconvert_exporter": "python",
   "pygments_lexer": "ipython3",
   "version": "3.4.4"
  }
 },
 "nbformat": 4,
 "nbformat_minor": 0
}
